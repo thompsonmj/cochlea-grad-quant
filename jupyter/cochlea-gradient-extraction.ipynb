{
 "cells": [
  {
   "cell_type": "markdown",
   "metadata": {
    "kernel": "SoS"
   },
   "source": [
    "# Pseudocode\n",
    ". Select a folder containing all images to process in a session with e.g. uigetdir\n",
    "    - e.g. USB30FD/projects/cochlea/data/img/10/_dat\n",
    ". import all .czi images\n",
    ". convert all to .tif stacks, removing the corresponding .czi from memory after each conversion to prevent overflowing\n",
    ". separate channels for each optical section for each tissue section and save to disk under new dir\n",
    "    - e.g. .../data/img/10/tif/sep-chan/>ch-metadata</_dat\n",
    "    - where >channel-metadata< includes the laser, antibody info, and target e.g. 568-Sox2-goat1Ab_donkey2AbAF568\n",
    "    - Keep this naming scheme consistant:\n",
    "     >laserChannel-targetMolecule-taggingInfo<\n",
    "\n",
    "--- All following manual steps should be done 3x per specimen froms start to finish to account for variability. Workflow is:\n",
    "~ experiment 1\n",
    "    FIRST REPLICATE\n",
    "    ~ tissue section 1\n",
    "        ~ optical section 1\n",
    "            . remove bkgd **MANUAL VARIATION**\n",
    "            . remove speckling as needed(always use identical parameters across all experiments and samples in an experiment - this code should be run on every image in an experiment if it is run on any image in an experiment)\n",
    "            . set ROI **MANUAL VARIATION**\n",
    "            . extract data **MANUAL VARIATION**\n",
    "            . generate plots (always use identical profile smoothing parameters across all experiments and samples in an experiment)\n",
    "        ~ optical section 2\n",
    "            . ...\n",
    "    ~ tissue section 2\n",
    "        ~ optical section 1\n",
    "            . ...\n",
    "        ~ optical section 2\n",
    "            . ...\n",
    "        ~ ...\n",
    "        ~ optical section n\n",
    "            . ...\n",
    "    ~ ...\n",
    "    ~ tissue section n\n",
    "        ~ optical section 1\n",
    "            . ...\n",
    "        ~ ...\n",
    "        ~ optical section n\n",
    "            . ...\n",
    "    SECOND REPLICATE\n",
    "    ~ tissue section 1\n",
    "        ...\n",
    "    THIRD REPLICATE\n",
    "    ~ tissue section 1\n",
    "        ...\n",
    "end experiment\n",
    "\n",
    "Above sources of variation are generated on a single set of raw data.\n",
    "\n",
    "Additional sources of variation in generating raw data: \n",
    ". embryo age (supposedly limited to +/- 0.5 days)\n",
    ". embryo orientation\n",
    "    - cochlea orientation within embryo\n",
    "    - embryo orientation within OCT block\n",
    "    - OCT block orientation on cryotome block\n",
    ". staining variation\n",
    "    - single target, antibody, protocol, etc. \n",
    "        - across >1 slide (different exact reagent quantities) in same embryo\n",
    "        - across >1 slide (different exact reagent quantities) and different embryos in same litter (different embryo genetics and physiology, different preparation conditions)\n",
    "        - ...\n",
    "\n",
    "\n",
    "Procedure:\n",
    ". subtract bkgd from each optical section for each tissue section (from instrument and sample)\n",
    "    - (auto) open a channel's stack in Fiji\n",
    "    - (auto) open ROI manager\n",
    "    - (man) select several (O(10)) small regions in scala media where there is no tissue in any z-plane\n",
    "    - (man) save ROI to disk under >ch-metadata</rm-bkgd/ibn-roi1/_dat\n",
    "    \n",
    ". Set ROI along sensory epithelium\n",
    "\n",
    ". Extract data for each channel, for each optical section, for each tissue section\n",
    "\n",
    ". Plot and normalize (against nuclear, across samples) best optical section for each tissue section\n",
    "\n",
    "....\n",
    "\n",
    "ALTERNATIVELY\n",
    "3D Cochlea Reconstruction Interpolating Across Multiple Tissue Sections\n",
    ". Cell segmentation and alignment does not seem like a good option - no direct nuclear overlap between tissue sections\n",
    "    - Tissue sections should therefore be as thick as possible to gather as much information \n"
   ]
  },
  {
   "cell_type": "markdown",
   "metadata": {
    "kernel": "SoS"
   },
   "source": [
    "# Setup"
   ]
  },
  {
   "cell_type": "code",
   "execution_count": 4,
   "metadata": {
    "kernel": "MATLAB"
   },
   "outputs": [
    {
     "name": "stdout",
     "output_type": "stream",
     "text": [
      "--------------------------------------------------------------\n",
      "Status> ImageJ is already running.\n",
      "--------------------------------------------------------------\n",
      "Unknown DetectorType value 'Airyscan' will be stored as \"Other\"\n",
      "Unknown DetectorType value 'GaAsP' will be stored as \"Other\"\n",
      "Unknown DetectorType value 'GaAsP' will be stored as \"Other\"\n",
      "Unknown IlluminationType value 'Fluorescence' will be stored as \"Other\"\n",
      "Unknown IlluminationType value 'Fluorescence' will be stored as \"Other\"\n",
      "Unknown IlluminationType value 'Fluorescence' will be stored as \"Other\"\n",
      "Unknown IlluminationType value 'Fluorescence' will be stored as \"Other\"\n",
      "Reading series #1\n",
      "    ....................................................................\n",
      "Reading series #2\n",
      "    ....................................................................\n"
     ]
    }
   ],
   "source": [
    "addpath('/Applications/Fiji.app/scripts')\n",
    "addpath(genpath(userpath))\n",
    "ImageJ;\n",
    "dir = uigetdir;\n",
    "cziFilesHere = dir([dir, '\\*.czi']);\n",
    "nFiles = length(cziFilesHere)\n",
    "dat = cell(nFiles,1);\n",
    "for iFile = 1:nFiles\n",
    "    dat(iFile) = bfopen(dir);\n",
    "end\n",
    "% next, count the number of .czi files in this dir\n",
    "% \n",
    "%imp = copytoImagePlus(file)\n",
    "%image = ij.IJ.openImage(file);\n",
    "%imp.show()"
   ]
  },
  {
   "cell_type": "code",
   "execution_count": 2,
   "metadata": {
    "kernel": "MATLAB"
   },
   "outputs": [],
   "source": [
    "A = 3"
   ]
  },
  {
   "cell_type": "markdown",
   "metadata": {
    "kernel": "MATLAB"
   },
   "source": [
    "# Part 1: Convert to tiff\n",
    "\n"
   ]
  },
  {
   "cell_type": "code",
   "execution_count": 5,
   "metadata": {
    "kernel": "MATLAB"
   },
   "outputs": [],
   "source": [
    "%imp = ij.IJ.openImage(\"http://imagej.nih.gov/ij/images/boats.gif\")\n",
    "%imp.show()"
   ]
  },
  {
   "cell_type": "markdown",
   "metadata": {
    "kernel": "SoS"
   },
   "source": [
    "# Part 2: Subtract Background Noise"
   ]
  },
  {
   "cell_type": "code",
   "execution_count": 2,
   "metadata": {
    "kernel": "MATLAB"
   },
   "outputs": [],
   "source": [
    "B = 2"
   ]
  },
  {
   "cell_type": "code",
   "execution_count": null,
   "metadata": {
    "kernel": "MATLAB"
   },
   "outputs": [],
   "source": []
  }
 ],
 "metadata": {
  "kernelspec": {
   "display_name": "SoS",
   "language": "sos",
   "name": "sos"
  },
  "language_info": {
   "codemirror_mode": "sos",
   "file_extension": ".sos",
   "mimetype": "text/x-sos",
   "name": "sos",
   "nbconvert_exporter": "sos_notebook.converter.SoS_Exporter",
   "pygments_lexer": "sos"
  },
  "sos": {
   "kernels": [
    [
     "MATLAB",
     "matlab",
     "MATLAB",
     "#8ee7f1"
    ]
   ],
   "version": "0.16.10"
  }
 },
 "nbformat": 4,
 "nbformat_minor": 2
}
